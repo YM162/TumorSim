{
 "cells": [
  {
   "cell_type": "code",
   "execution_count": 15,
   "metadata": {},
   "outputs": [
    {
     "name": "stdout",
     "output_type": "stream",
     "text": [
      "AgentBasedModel with 10 agents of type Cell\n",
      " space: GridSpace with size (10, 10), metric=chebyshev, periodic=true\n",
      " scheduler: fastest\n",
      " properties: \n"
     ]
    },
    {
     "data": {
      "text/plain": [
       "(\u001b[1m11×2 DataFrame\u001b[0m\n",
       "\u001b[1m Row \u001b[0m│\u001b[1m step  \u001b[0m\u001b[1m length_time_alive \u001b[0m\n",
       "     │\u001b[90m Int64 \u001b[0m\u001b[90m Int64             \u001b[0m\n",
       "─────┼──────────────────────────\n",
       "   1 │     0                 10\n",
       "   2 │     1                 11\n",
       "   3 │     2                 11\n",
       "   4 │     3                 11\n",
       "   5 │     4                 11\n",
       "   6 │     5                 11\n",
       "   7 │     6                 12\n",
       "   8 │     7                 12\n",
       "   9 │     8                 12\n",
       "  10 │     9                 13\n",
       "  11 │    10                 12, \u001b[1m0×0 DataFrame\u001b[0m)"
      ]
     },
     "metadata": {},
     "output_type": "display_data"
    }
   ],
   "source": [
    "cd(@__DIR__) #src\n",
    "using Agents, Random\n",
    "using Agents.DataFrames, Agents.Graphs\n",
    "using Distributions: Poisson, DiscreteNonParametric\n",
    "using DrWatson: @dict\n",
    "using CairoMakie\n",
    "CairoMakie.activate!() # hide\n",
    "using InteractiveDynamics\n",
    "using StatsBase\n",
    "#We initialize the model according to some parameters THAT ARE NOW HARDCODED BUT WILL NOT BE IN A NEAR FUTURE\n",
    "function  model_init()\n",
    "    @agent Cell GridAgent{2} begin\n",
    "        time_alive::Int  # Time the cell has been alive\n",
    "        near_cells::Int # Number of cells in the neighborhood\n",
    "        genotype::BitArray # Genotype of the cell\n",
    "    end\n",
    "\n",
    "    seed = 0\n",
    "    rng = MersenneTwister(seed)\n",
    "    l=10\n",
    "    n0=10\n",
    "    ngenes=4\n",
    "    space = GridSpace((l, l))\n",
    "    properties=@dict()\n",
    "    model = ABM(Cell, space;properties, rng) \n",
    "\n",
    "    for i in 1:n0\n",
    "        add_agent!(model,0,0,BitArray([false for x in 1:ngenes]))\n",
    "    end\n",
    "    return model\n",
    "end\n",
    "\n",
    "#Step evey agent, updating its parameters and then reproducing, moving and dying.\n",
    "function agent_step!(agent, model)\n",
    "    if agent.time_alive == 0\n",
    "        mutate!(agent,model)\n",
    "    end\n",
    "    agent.time_alive += 1\n",
    "    agent.near_cells = length(ids_in_position(agent, model))\n",
    "    reproduce!(agent, model)\n",
    "    move!(agent, model)\n",
    "    die!(agent, model)\n",
    "end\n",
    "\n",
    "#Move every cell to a random nearby space ONLY if your space is \"crowded\", crowded for example is more than 1 cell in your space \n",
    "function move!(agent, model)\n",
    "    pos = agent.pos\n",
    "    nearby = [x for x in nearby_positions(agent,model,1)]\n",
    "    newpos = rand(model.rng, nearby)\n",
    "    if length(ids_in_position(agent, model)) > 1\n",
    "        m = sample(nearby)\n",
    "        move_agent!(agent,m, model)\n",
    "    end\n",
    "end\n",
    "\n",
    "#reproduce, creating a new cell in the same space with a probability that decreases with how many cells are already in its space\n",
    "function reproduce!(agent,model)\n",
    "    pid = agent.pos\n",
    "    if rand(model.rng) < 0.01/(length(ids_in_position(agent, model))^2)\n",
    "        add_agent!(pid,model,0,0,agent.genotype)\n",
    "    end\n",
    "end\n",
    "\n",
    "#with a probability p choose a random non mutated gene and mutate it. TODO\n",
    "function mutate!(agent,model)\n",
    "    agent.genotype\n",
    "end\n",
    "\n",
    "#die, with a probability that increases with the number of cells that are in its space.\n",
    "function die!(agent, model)\n",
    "    pos = agent.pos\n",
    "    nearby = [x for x in nearby_positions(agent,model,1)]\n",
    "    if rand(model.rng) < 0.01*(length(ids_in_position(agent, model))^2)\n",
    "        kill_agent!(agent, model)\n",
    "    end\n",
    "end\n",
    "\n",
    "\n",
    "model = model_init()\n",
    "println(model)\n",
    "#we collect the number of cells that are alive\n",
    "to_collect = [(:time_alive, length)]\n",
    "#we run the simulation\n",
    "data, _ = run!(model, agent_step!, 10; adata = to_collect)"
   ]
  },
  {
   "cell_type": "code",
   "execution_count": 10,
   "metadata": {},
   "outputs": [
    {
     "data": {
      "image/png": "[encoded data removed]",
      "text/plain": [
       "Scene (800px, 600px):\n",
       "  0 Plots\n",
       "  1 Child Scene:\n",
       "    └ Scene (800px, 600px)"
      ]
     },
     "metadata": {},
     "output_type": "display_data"
    }
   ],
   "source": [
    "using ColorSchemes\n",
    "colors=Dict(0=>:black,1=>:red,2=>:blue,3=>:green,4=>:yellow,5=>:orange,6=>:purple,7=>:pink,8=>:brown,9=>:cyan,10=>:gray)\n",
    "densitycolor(a) = get(colorschemes[:thermal], a.near_cells, (1,10))\n",
    "\n",
    "figure, _ = abmplot(model;ac = densitycolor)\n",
    "figure # returning the figure displays it"
   ]
  },
  {
   "cell_type": "code",
   "execution_count": 91,
   "metadata": {},
   "outputs": [],
   "source": [
    "model = model_init()\n",
    "abmvideo(\n",
    "    \"schelling.mp4\", model, agent_step!;\n",
    "    framerate = 50, frames = 1000,ac = densitycolor,\n",
    "    title = \"Tumor growth\"\n",
    ")"
   ]
  },
  {
   "cell_type": "code",
   "execution_count": 51,
   "metadata": {},
   "outputs": [
    {
     "ename": "MethodError",
     "evalue": "MethodError: no method matching sample()\nClosest candidates are:\n  sample(!Matched::AbstractWeights) at C:\\Users\\yomis\\.julia\\packages\\StatsBase\\XgjIN\\src\\sampling.jl:563\n  sample(!Matched::AbstractArray) at C:\\Users\\yomis\\.julia\\packages\\StatsBase\\XgjIN\\src\\sampling.jl:432\n  sample(!Matched::AbstractArray, !Matched::Integer; replace, ordered) at C:\\Users\\yomis\\.julia\\packages\\StatsBase\\XgjIN\\src\\sampling.jl:513\n  ...",
     "output_type": "error",
     "traceback": [
      "MethodError: no method matching sample()\n",
      "Closest candidates are:\n",
      "  sample(!Matched::AbstractWeights) at C:\\Users\\yomis\\.julia\\packages\\StatsBase\\XgjIN\\src\\sampling.jl:563\n",
      "  sample(!Matched::AbstractArray) at C:\\Users\\yomis\\.julia\\packages\\StatsBase\\XgjIN\\src\\sampling.jl:432\n",
      "  sample(!Matched::AbstractArray, !Matched::Integer; replace, ordered) at C:\\Users\\yomis\\.julia\\packages\\StatsBase\\XgjIN\\src\\sampling.jl:513\n",
      "  ...\n",
      "\n",
      "Stacktrace:\n",
      " [1] top-level scope\n",
      "   @ c:\\Users\\yomis\\TFG\\tumor-sim\\julia.ipynb:7"
     ]
    }
   ],
   "source": [
    "genotype = BitArray([false for x in 1:10])\n",
    "genes=findall(genotype .!=1)\n",
    "\n",
    "if genes==[]\n",
    "    print(\"a\")\n",
    "end\n",
    "r=sample()\n",
    "print(r)\n",
    "if r!=Array()\n",
    "    genotype[r]=1\n",
    "end\n",
    "genotype"
   ]
  }
 ],
 "metadata": {
  "kernelspec": {
   "display_name": "Julia 1.8.2",
   "language": "julia",
   "name": "julia-1.8"
  },
  "language_info": {
   "file_extension": ".jl",
   "mimetype": "application/julia",
   "name": "julia",
   "version": "1.8.2"
  },
  "orig_nbformat": 4
 },
 "nbformat": 4,
 "nbformat_minor": 2
}
