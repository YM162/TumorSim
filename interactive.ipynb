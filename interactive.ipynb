{
 "cells": [
  {
   "cell_type": "markdown",
   "metadata": {},
   "source": [
    "With this notebook we can make an Interactive simulation and change pr,dr and pr using sliders"
   ]
  },
  {
   "cell_type": "code",
   "execution_count": 1,
   "metadata": {},
   "outputs": [],
   "source": [
    "#We import the common functions and model.\n",
    "include(\"./functions.jl\")\n",
    "#We use GLMakie to use the interactive plot\n",
    "using GLMakie\n",
    "GLMakie.activate!() "
   ]
  },
  {
   "cell_type": "code",
   "execution_count": 2,
   "metadata": {},
   "outputs": [
    {
     "name": "stdout",
     "output_type": "stream",
     "text": [
      "AgentBasedModel with 10 agents of type Cell\n",
      " space: GridSpace with size (100, 100), metric=chebyshev, periodic=true\n",
      " scheduler: fastest\n",
      " properties: dr, ngenes, fitness, pr, mr\n"
     ]
    },
    {
     "data": {
      "text/html": [
       "<div><div style = \"float: left;\"><span>11×9 DataFrame</span></div><div style = \"clear: both;\"></div></div><div class = \"data-frame\" style = \"overflow-x: scroll;\"><table class = \"data-frame\" style = \"margin-bottom: 6px;\"><thead><tr class = \"header\"><th class = \"rowNumber\" style = \"font-weight: bold; text-align: right;\">Row</th><th style = \"text-align: left;\">step</th><th style = \"text-align: left;\">[0, 0, 0]</th><th style = \"text-align: left;\">[0, 0, 1]</th><th style = \"text-align: left;\">[0, 1, 0]</th><th style = \"text-align: left;\">[0, 1, 1]</th><th style = \"text-align: left;\">[1, 0, 0]</th><th style = \"text-align: left;\">[1, 0, 1]</th><th style = \"text-align: left;\">[1, 1, 0]</th><th style = \"text-align: left;\">[1, 1, 1]</th></tr><tr class = \"subheader headerLastRow\"><th class = \"rowNumber\" style = \"font-weight: bold; text-align: right;\"></th><th title = \"Int64\" style = \"text-align: left;\">Int64</th><th title = \"Int64\" style = \"text-align: left;\">Int64</th><th title = \"Int64\" style = \"text-align: left;\">Int64</th><th title = \"Int64\" style = \"text-align: left;\">Int64</th><th title = \"Int64\" style = \"text-align: left;\">Int64</th><th title = \"Int64\" style = \"text-align: left;\">Int64</th><th title = \"Int64\" style = \"text-align: left;\">Int64</th><th title = \"Int64\" style = \"text-align: left;\">Int64</th><th title = \"Int64\" style = \"text-align: left;\">Int64</th></tr></thead><tbody><tr><td class = \"rowNumber\" style = \"font-weight: bold; text-align: right;\">1</td><td style = \"text-align: right;\">0</td><td style = \"text-align: right;\">10</td><td style = \"text-align: right;\">0</td><td style = \"text-align: right;\">0</td><td style = \"text-align: right;\">0</td><td style = \"text-align: right;\">0</td><td style = \"text-align: right;\">0</td><td style = \"text-align: right;\">0</td><td style = \"text-align: right;\">0</td></tr><tr><td class = \"rowNumber\" style = \"font-weight: bold; text-align: right;\">2</td><td style = \"text-align: right;\">1</td><td style = \"text-align: right;\">10</td><td style = \"text-align: right;\">0</td><td style = \"text-align: right;\">0</td><td style = \"text-align: right;\">0</td><td style = \"text-align: right;\">0</td><td style = \"text-align: right;\">0</td><td style = \"text-align: right;\">0</td><td style = \"text-align: right;\">0</td></tr><tr><td class = \"rowNumber\" style = \"font-weight: bold; text-align: right;\">3</td><td style = \"text-align: right;\">2</td><td style = \"text-align: right;\">10</td><td style = \"text-align: right;\">0</td><td style = \"text-align: right;\">0</td><td style = \"text-align: right;\">0</td><td style = \"text-align: right;\">0</td><td style = \"text-align: right;\">0</td><td style = \"text-align: right;\">0</td><td style = \"text-align: right;\">0</td></tr><tr><td class = \"rowNumber\" style = \"font-weight: bold; text-align: right;\">4</td><td style = \"text-align: right;\">3</td><td style = \"text-align: right;\">10</td><td style = \"text-align: right;\">0</td><td style = \"text-align: right;\">0</td><td style = \"text-align: right;\">0</td><td style = \"text-align: right;\">0</td><td style = \"text-align: right;\">0</td><td style = \"text-align: right;\">0</td><td style = \"text-align: right;\">0</td></tr><tr><td class = \"rowNumber\" style = \"font-weight: bold; text-align: right;\">5</td><td style = \"text-align: right;\">4</td><td style = \"text-align: right;\">10</td><td style = \"text-align: right;\">0</td><td style = \"text-align: right;\">0</td><td style = \"text-align: right;\">0</td><td style = \"text-align: right;\">0</td><td style = \"text-align: right;\">0</td><td style = \"text-align: right;\">0</td><td style = \"text-align: right;\">0</td></tr><tr><td class = \"rowNumber\" style = \"font-weight: bold; text-align: right;\">6</td><td style = \"text-align: right;\">5</td><td style = \"text-align: right;\">11</td><td style = \"text-align: right;\">0</td><td style = \"text-align: right;\">0</td><td style = \"text-align: right;\">0</td><td style = \"text-align: right;\">0</td><td style = \"text-align: right;\">0</td><td style = \"text-align: right;\">0</td><td style = \"text-align: right;\">0</td></tr><tr><td class = \"rowNumber\" style = \"font-weight: bold; text-align: right;\">7</td><td style = \"text-align: right;\">6</td><td style = \"text-align: right;\">10</td><td style = \"text-align: right;\">0</td><td style = \"text-align: right;\">0</td><td style = \"text-align: right;\">0</td><td style = \"text-align: right;\">0</td><td style = \"text-align: right;\">0</td><td style = \"text-align: right;\">0</td><td style = \"text-align: right;\">0</td></tr><tr><td class = \"rowNumber\" style = \"font-weight: bold; text-align: right;\">8</td><td style = \"text-align: right;\">7</td><td style = \"text-align: right;\">10</td><td style = \"text-align: right;\">0</td><td style = \"text-align: right;\">0</td><td style = \"text-align: right;\">0</td><td style = \"text-align: right;\">0</td><td style = \"text-align: right;\">0</td><td style = \"text-align: right;\">0</td><td style = \"text-align: right;\">0</td></tr><tr><td class = \"rowNumber\" style = \"font-weight: bold; text-align: right;\">9</td><td style = \"text-align: right;\">8</td><td style = \"text-align: right;\">9</td><td style = \"text-align: right;\">0</td><td style = \"text-align: right;\">0</td><td style = \"text-align: right;\">0</td><td style = \"text-align: right;\">0</td><td style = \"text-align: right;\">0</td><td style = \"text-align: right;\">0</td><td style = \"text-align: right;\">0</td></tr><tr><td class = \"rowNumber\" style = \"font-weight: bold; text-align: right;\">10</td><td style = \"text-align: right;\">9</td><td style = \"text-align: right;\">9</td><td style = \"text-align: right;\">0</td><td style = \"text-align: right;\">0</td><td style = \"text-align: right;\">0</td><td style = \"text-align: right;\">0</td><td style = \"text-align: right;\">0</td><td style = \"text-align: right;\">0</td><td style = \"text-align: right;\">0</td></tr><tr><td class = \"rowNumber\" style = \"font-weight: bold; text-align: right;\">11</td><td style = \"text-align: right;\">10</td><td style = \"text-align: right;\">9</td><td style = \"text-align: right;\">0</td><td style = \"text-align: right;\">0</td><td style = \"text-align: right;\">0</td><td style = \"text-align: right;\">0</td><td style = \"text-align: right;\">0</td><td style = \"text-align: right;\">0</td><td style = \"text-align: right;\">0</td></tr></tbody></table></div>"
      ],
      "text/latex": [
       "\\begin{tabular}{r|ccccccccc}\n",
       "\t& step & [0, 0, 0] & [0, 0, 1] & [0, 1, 0] & [0, 1, 1] & [1, 0, 0] & [1, 0, 1] & [1, 1, 0] & \\\\\n",
       "\t\\hline\n",
       "\t& Int64 & Int64 & Int64 & Int64 & Int64 & Int64 & Int64 & Int64 & \\\\\n",
       "\t\\hline\n",
       "\t1 & 0 & 10 & 0 & 0 & 0 & 0 & 0 & 0 & $\\dots$ \\\\\n",
       "\t2 & 1 & 10 & 0 & 0 & 0 & 0 & 0 & 0 & $\\dots$ \\\\\n",
       "\t3 & 2 & 10 & 0 & 0 & 0 & 0 & 0 & 0 & $\\dots$ \\\\\n",
       "\t4 & 3 & 10 & 0 & 0 & 0 & 0 & 0 & 0 & $\\dots$ \\\\\n",
       "\t5 & 4 & 10 & 0 & 0 & 0 & 0 & 0 & 0 & $\\dots$ \\\\\n",
       "\t6 & 5 & 11 & 0 & 0 & 0 & 0 & 0 & 0 & $\\dots$ \\\\\n",
       "\t7 & 6 & 10 & 0 & 0 & 0 & 0 & 0 & 0 & $\\dots$ \\\\\n",
       "\t8 & 7 & 10 & 0 & 0 & 0 & 0 & 0 & 0 & $\\dots$ \\\\\n",
       "\t9 & 8 & 9 & 0 & 0 & 0 & 0 & 0 & 0 & $\\dots$ \\\\\n",
       "\t10 & 9 & 9 & 0 & 0 & 0 & 0 & 0 & 0 & $\\dots$ \\\\\n",
       "\t11 & 10 & 9 & 0 & 0 & 0 & 0 & 0 & 0 & $\\dots$ \\\\\n",
       "\\end{tabular}\n"
      ],
      "text/plain": [
       "\u001b[1m11×9 DataFrame\u001b[0m\n",
       "\u001b[1m Row \u001b[0m│\u001b[1m step  \u001b[0m\u001b[1m [0, 0, 0] \u001b[0m\u001b[1m [0, 0, 1] \u001b[0m\u001b[1m [0, 1, 0] \u001b[0m\u001b[1m [0, 1, 1] \u001b[0m\u001b[1m [1, 0, 0] \u001b[0m\u001b[1m [1, 0, 1]\u001b[0m ⋯\n",
       "     │\u001b[90m Int64 \u001b[0m\u001b[90m Int64     \u001b[0m\u001b[90m Int64     \u001b[0m\u001b[90m Int64     \u001b[0m\u001b[90m Int64     \u001b[0m\u001b[90m Int64     \u001b[0m\u001b[90m Int64    \u001b[0m ⋯\n",
       "─────┼──────────────────────────────────────────────────────────────────────────\n",
       "   1 │     0         10          0          0          0          0          0 ⋯\n",
       "   2 │     1         10          0          0          0          0          0\n",
       "   3 │     2         10          0          0          0          0          0\n",
       "   4 │     3         10          0          0          0          0          0\n",
       "   5 │     4         10          0          0          0          0          0 ⋯\n",
       "   6 │     5         11          0          0          0          0          0\n",
       "   7 │     6         10          0          0          0          0          0\n",
       "   8 │     7         10          0          0          0          0          0\n",
       "   9 │     8          9          0          0          0          0          0 ⋯\n",
       "  10 │     9          9          0          0          0          0          0\n",
       "  11 │    10          9          0          0          0          0          0\n",
       "\u001b[36m                                                               2 columns omitted\u001b[0m"
      ]
     },
     "metadata": {},
     "output_type": "display_data"
    }
   ],
   "source": [
    "#Number of genes of each cell. We need to define it earlier in order to collect the data. Can go up to 10000 easily AS LONG as we dont measure in every timestep.\n",
    "ngenes=3 \n",
    "\n",
    "#\n",
    "# Ejemplo AND con 3 genes:\n",
    "#\n",
    "#  WT             000:WT  ->1\n",
    "#  /\\             001:C   ->0\n",
    "# A  B            010:B   ->1.2\n",
    "#  \\/ (and)       011:BC  ->0\n",
    "#   C             100:A   ->1.3\n",
    "#                 101:AC  ->0\n",
    "#                 110:AB  ->1.5\n",
    "#                 111:ABC ->2\n",
    "#\n",
    "#\n",
    "\n",
    "fitness=Dict(0=>1, #Fitness of each of the genotypes, the key is the binary representation of the genotype in decimal form.\n",
    "            1=>0, #Fitness is expressed as a multiplicative effect on pr, but this can be changed.\n",
    "            2=>1.2,\n",
    "            3=>0,\n",
    "            4=>1.3,\n",
    "            5=>0,\n",
    "            6=>1.5,\n",
    "            7=>2)\n",
    "\n",
    "#OncoSimulR integration! We can use the rfitness function to generate random fitness landscapes\n",
    "#fitness=OncoSimulR_rfitness(g=ngenes,c=0.5,sd=1) \n",
    "\n",
    "#If a genotype fitness is not specified, it can have a default value (0 for not viable or 1 for same effect as WT)\n",
    "fitness=DefaultDict(1,fitness) \n",
    "\n",
    "#We initialize the model.\n",
    "model = model_init(pr=0.027, #Proliferation rate\n",
    "                    dr=0.015, #Death rate\n",
    "                    mr=0.01, #Mutation rate\n",
    "                    l=100, #Lenght of the lxl grid\n",
    "                    n0=10, #Number of initial WT cells (They dont need to be WT, we can specify any genotype for any of them)\n",
    "                    ngenes=ngenes, #The number of genes of each cell\n",
    "                    fitness=fitness, #The fitness of each genotype\n",
    "                    seed=3) #Seed to get reproducible results\n",
    "\n",
    "println(model)\n",
    "\n",
    "#we collect the number of cells of each genotype that are alive\n",
    "to_collect = [(:genotype, f) for f in genotype_fraction_function_generator(ngenes)]\n",
    "\n",
    "#we run the simulation\n",
    "steps= 10\n",
    "data, _ = run!(model, agent_step!, steps; adata = to_collect)\n",
    "\n",
    "#we rename the columns to get a clean \"data\" DataFrame.\n",
    "genotypes = [string(reverse(digits(i, base=2, pad=ngenes))) for i in 0:((2^ngenes)-1)]\n",
    "pushfirst!(genotypes,\"step\")\n",
    "rename!(data,genotypes)"
   ]
  },
  {
   "cell_type": "code",
   "execution_count": 3,
   "metadata": {},
   "outputs": [],
   "source": [
    "#We plot the genotype of each cell with a different color.\n",
    "\n",
    "#Functions to get a different color for each genotype\n",
    "genotypecolor(a) = get(colorschemes[:hsv], bit_2_int(a.genotype), (0,(2^ngenes)+1))\n",
    "genotypecolor_legend(a) = get(colorschemes[:hsv], a, (0,(2^ngenes)+1))\n",
    "\n",
    "#We create the sliders to modify the model\n",
    "params = Dict(\n",
    "    :pr => 0:0.001:0.1,\n",
    "    :dr => 0:0.001:0.1,\n",
    "    :mr => 0:0.001:0.05\n",
    ")\n",
    "\n",
    "#We make an interactive plot\n",
    "figure, ax, abmobs = abmplot(model;agent_step! = agent_step!,ac = genotypecolor,as=8,am='■',params)\n",
    "\n",
    "#We create a legend for the genotypes\n",
    "genotypes = [filter(x -> !isspace(x), string(reverse(digits(i, base=2, pad=ngenes)))) for i in 0:((2^ngenes)-1)]\n",
    "Legend(figure[1, 2],\n",
    "    [MarkerElement(color = genotypecolor_legend(a), marker = '■', markersize = 15, strokecolor = :black) for a in 0:(2^ngenes)-1],\n",
    "    genotypes,\n",
    "    patchsize = (20, 20), rowgap = 1)\n",
    "\n",
    "#We display the figure in a new window\n",
    "figure"
   ]
  }
 ],
 "metadata": {
  "kernelspec": {
   "display_name": "Julia 1.8.2",
   "language": "julia",
   "name": "julia-1.8"
  },
  "language_info": {
   "file_extension": ".jl",
   "mimetype": "application/julia",
   "name": "julia",
   "version": "1.8.2"
  },
  "orig_nbformat": 4
 },
 "nbformat": 4,
 "nbformat_minor": 2
}
